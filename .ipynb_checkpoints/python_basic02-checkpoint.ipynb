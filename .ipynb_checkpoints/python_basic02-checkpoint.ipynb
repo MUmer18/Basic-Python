{
 "cells": [
  {
   "cell_type": "markdown",
   "metadata": {},
   "source": [
    "# user input"
   ]
  },
  {
   "cell_type": "code",
   "execution_count": 4,
   "metadata": {},
   "outputs": [
    {
     "name": "stdout",
     "output_type": "stream",
     "text": [
      "what is your name: umer\n",
      "your name is umer\n"
     ]
    }
   ],
   "source": [
    "name = input(\"what is your name: \")\n",
    "print(\"your name is \"+ name)"
   ]
  },
  {
   "cell_type": "code",
   "execution_count": 6,
   "metadata": {},
   "outputs": [
    {
     "name": "stdout",
     "output_type": "stream",
     "text": [
      "enter a number4\n",
      "enter a number4\n",
      "44\n"
     ]
    }
   ],
   "source": [
    "num1 = input(\"enter a number\")\n",
    "num2 = input(\"enter a number\")\n",
    "number = num1 + num2\n",
    "print(number)"
   ]
  },
  {
   "cell_type": "code",
   "execution_count": 8,
   "metadata": {},
   "outputs": [
    {
     "name": "stdout",
     "output_type": "stream",
     "text": [
      "enter a number4\n",
      "enter a number4\n",
      "8\n"
     ]
    }
   ],
   "source": [
    "num1 = int(input(\"enter a number\")) #we use int function to use it for calculaation otherwise it will concatenate as in above example\n",
    "num2 = int(input(\"enter a number\"))\n",
    "number = num1 + num2\n",
    "print(number)"
   ]
  }
 ],
 "metadata": {
  "kernelspec": {
   "display_name": "Python 3",
   "language": "python",
   "name": "python3"
  },
  "language_info": {
   "codemirror_mode": {
    "name": "ipython",
    "version": 3
   },
   "file_extension": ".py",
   "mimetype": "text/x-python",
   "name": "python",
   "nbconvert_exporter": "python",
   "pygments_lexer": "ipython3",
   "version": "3.7.3"
  }
 },
 "nbformat": 4,
 "nbformat_minor": 2
}
